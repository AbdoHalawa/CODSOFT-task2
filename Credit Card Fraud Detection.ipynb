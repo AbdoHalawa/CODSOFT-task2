{
  "nbformat": 4,
  "nbformat_minor": 0,
  "metadata": {
    "colab": {
      "provenance": []
    },
    "kernelspec": {
      "name": "python3",
      "display_name": "Python 3"
    },
    "language_info": {
      "name": "python"
    }
  },
  "cells": [
    {
      "cell_type": "code",
      "execution_count": 2,
      "metadata": {
        "id": "935_o_OVCjU7"
      },
      "outputs": [],
      "source": [
        "import pandas as pd\n"
      ]
    },
    {
      "cell_type": "code",
      "source": [
        "from google.colab import drive\n",
        "drive.mount('/content/drive')"
      ],
      "metadata": {
        "colab": {
          "base_uri": "https://localhost:8080/"
        },
        "id": "xZJWWOdYCvrJ",
        "outputId": "5402ee0c-d4db-4023-a899-de7cf5fafff2"
      },
      "execution_count": 9,
      "outputs": [
        {
          "output_type": "stream",
          "name": "stdout",
          "text": [
            "Drive already mounted at /content/drive; to attempt to forcibly remount, call drive.mount(\"/content/drive\", force_remount=True).\n"
          ]
        }
      ]
    },
    {
      "cell_type": "code",
      "source": [
        "\n",
        "train_data = pd.read_csv(\"/content/drive/MyDrive/fraudTrain.csv\")\n",
        "\n",
        "sample_size_train = int(0.008 * len(train_data))\n",
        "\n",
        "sample_data_train = train_data.sample(n=sample_size_train, random_state=42)\n",
        "\n",
        "print(\"Sampled Training Data Shape:\", sample_data_train.shape)\n",
        "print(\"\\nFirst Few Rows of Sampled Training Data:\")\n",
        "print(sample_data_train.head())\n",
        "\n",
        "print(len(sample_data_train))\n",
        "print(len(train_data))\n"
      ],
      "metadata": {
        "colab": {
          "base_uri": "https://localhost:8080/"
        },
        "id": "jQs1Ig6igWyN",
        "outputId": "d5bed20a-fa42-4c3b-fab9-682fdbe38af4"
      },
      "execution_count": 59,
      "outputs": [
        {
          "output_type": "stream",
          "name": "stdout",
          "text": [
            "Sampled Training Data Shape: (10373, 23)\n",
            "\n",
            "First Few Rows of Sampled Training Data:\n",
            "         Unnamed: 0 trans_date_trans_time            cc_num  \\\n",
            "1045211     1045211   2020-03-09 15:09:26      577588686219   \n",
            "547406       547406   2019-08-22 15:49:01    30376238035123   \n",
            "110142       110142   2019-03-04 01:34:16  4658490815480264   \n",
            "1285953     1285953   2020-06-16 20:04:38  3514897282719543   \n",
            "271705       271705   2019-05-14 05:54:48  6011381817520024   \n",
            "\n",
            "                                            merchant        category     amt  \\\n",
            "1045211                              fraud_Towne LLC        misc_pos  194.51   \n",
            "547406                             fraud_Friesen Ltd  health_fitness   52.32   \n",
            "110142                                fraud_Mohr Inc    shopping_pos    6.53   \n",
            "1285953                      fraud_Gaylord-Powlowski            home    7.33   \n",
            "271705   fraud_Christiansen, Goyette and Schamberger   gas_transport   64.29   \n",
            "\n",
            "           first        last gender                        street  ...  \\\n",
            "1045211    James  Strickland      M            25454 Leonard Lake  ...   \n",
            "547406   Cynthia       Davis      F            7177 Steven Forges  ...   \n",
            "110142      Tara    Richards      F         4879 Cristina Station  ...   \n",
            "1285953   Steven    Faulkner      M  841 Cheryl Centers Suite 115  ...   \n",
            "271705   Kristen       Allen      F     8619 Lisa Manors Apt. 871  ...   \n",
            "\n",
            "             lat      long  city_pop                                    job  \\\n",
            "1045211  40.6153  -79.4545       972     Public relations account executive   \n",
            "547406   42.8250 -124.4409       217                    Retail merchandiser   \n",
            "110142   39.9636  -79.7853       184                      Systems developer   \n",
            "1285953  42.9580  -77.3083     10717                         Cytogeneticist   \n",
            "271705   41.6423 -104.1974       635  Product/process development scientist   \n",
            "\n",
            "                dob                         trans_num   unix_time  merch_lat  \\\n",
            "1045211  1997-10-23  fff87d4340ef756a592eac652493cf6b  1362841766  40.420453   \n",
            "547406   1928-10-01  d0ad335af432f35578eea01d639b3621  1345650541  42.758860   \n",
            "110142   1945-11-04  87f26e3ea33f4ff4c7a8bad2c7f48686  1330824856  40.475159   \n",
            "1285953  1952-10-13  9c34015321c0fa2ae6fd20f9359d1d3e  1371413078  43.767506   \n",
            "271705   1973-07-13  198437c05676f485e9be04449c664475  1336974888  41.040392   \n",
            "\n",
            "         merch_long  is_fraud  \n",
            "1045211  -78.865012         0  \n",
            "547406  -123.636337         0  \n",
            "110142   -78.898190         0  \n",
            "1285953  -76.542384         0  \n",
            "271705  -104.092324         0  \n",
            "\n",
            "[5 rows x 23 columns]\n",
            "10373\n",
            "1296675\n"
          ]
        }
      ]
    },
    {
      "cell_type": "code",
      "source": [
        "test_data = pd.read_csv(\"/content/drive/MyDrive/fraudTest.csv\")\n",
        "sample_size_test = int(0.008 * len(test_data))\n",
        "sample_data_test = test_data.sample(n=sample_size_test, random_state=42)\n",
        "print(\"Testing data shape:\", sample_data_test.shape)\n",
        "print(\"\\nFirst few rows of testing data:\")\n",
        "print(sample_data_test.head())\n"
      ],
      "metadata": {
        "colab": {
          "base_uri": "https://localhost:8080/"
        },
        "id": "fCmHt-KngW5J",
        "outputId": "2f72ed08-89b0-49c4-8819-0652208e94c2"
      },
      "execution_count": 60,
      "outputs": [
        {
          "output_type": "stream",
          "name": "stdout",
          "text": [
            "Testing data shape: (4445, 23)\n",
            "\n",
            "First few rows of testing data:\n",
            "        Unnamed: 0 trans_date_trans_time           cc_num  \\\n",
            "119106      119106   2020-08-02 07:55:28  377895991033232   \n",
            "179292      179292   2020-08-23 14:05:16   30364087349027   \n",
            "540729      540729   2020-12-28 16:22:29   30328384440870   \n",
            "374360      374360   2020-11-14 10:44:50   30364087349027   \n",
            "314574      314574   2020-10-19 01:50:09    4198470814557   \n",
            "\n",
            "                                    merchant       category    amt     first  \\\n",
            "119106   fraud_Bahringer, Schoen and Corkery   shopping_pos   1.07  Kimberly   \n",
            "179292     fraud_Romaguera, Wehner and Tromp      kids_pets  94.99    Samuel   \n",
            "540729                     fraud_Berge-Hills      kids_pets  31.28     Helen   \n",
            "374360  fraud_Connelly, Reichert and Fritsch  gas_transport  73.06    Samuel   \n",
            "314574                 fraud_Kuphal-Predovic       misc_net   9.99  Christie   \n",
            "\n",
            "              last gender                      street  ...      lat     long  \\\n",
            "119106       Myers      F    6881 King Isle Suite 228  ...  41.4682 -72.5751   \n",
            "179292    Sandoval      M          0005 Morrison Land  ...  35.8896 -96.0887   \n",
            "540729    Campbell      F  182 Sergio Summit Apt. 129  ...  40.0290 -93.1607   \n",
            "374360    Sandoval      M          0005 Morrison Land  ...  35.8896 -96.0887   \n",
            "314574  Williamson      F             519 Jerry Views  ...  41.4768 -95.3509   \n",
            "\n",
            "        city_pop                     job         dob  \\\n",
            "119106      5438     Librarian, academic  1964-11-17   \n",
            "179292      7163  Fitness centre manager  1982-02-05   \n",
            "540729       602          Cytogeneticist  1954-07-14   \n",
            "374360      7163  Fitness centre manager  1982-02-05   \n",
            "314574      2036   Engineering geologist  1971-08-20   \n",
            "\n",
            "                               trans_num   unix_time  merch_lat merch_long  \\\n",
            "119106  cf581d75ccc9ba838a05dec8bfa78b5b  1375430128  41.240083 -71.837788   \n",
            "179292  b1bfaf13224da41f422db483fd810dd7  1377266716  35.156537 -95.806648   \n",
            "540729  cde9fc0136873645778d0ad8817db655  1388247749  39.888665 -93.106804   \n",
            "374360  90b8429191e5c83df1afba4e5db4d61e  1384425890  36.734101 -96.737345   \n",
            "314574  e4893795b6b3e41667129b9ed13b9650  1382147409  40.922072 -94.899388   \n",
            "\n",
            "        is_fraud  \n",
            "119106         0  \n",
            "179292         0  \n",
            "540729         0  \n",
            "374360         0  \n",
            "314574         0  \n",
            "\n",
            "[5 rows x 23 columns]\n"
          ]
        }
      ]
    },
    {
      "cell_type": "code",
      "source": [
        "print(\"Missing values in training data:\")\n",
        "print(sample_data_train.isnull().sum())\n"
      ],
      "metadata": {
        "colab": {
          "base_uri": "https://localhost:8080/"
        },
        "id": "dZPiqwSzg9ny",
        "outputId": "12ab4e8a-bbb2-48a4-9d91-3f4f617e217a"
      },
      "execution_count": 61,
      "outputs": [
        {
          "output_type": "stream",
          "name": "stdout",
          "text": [
            "Missing values in training data:\n",
            "Unnamed: 0               0\n",
            "trans_date_trans_time    0\n",
            "cc_num                   0\n",
            "merchant                 0\n",
            "category                 0\n",
            "amt                      0\n",
            "first                    0\n",
            "last                     0\n",
            "gender                   0\n",
            "street                   0\n",
            "city                     0\n",
            "state                    0\n",
            "zip                      0\n",
            "lat                      0\n",
            "long                     0\n",
            "city_pop                 0\n",
            "job                      0\n",
            "dob                      0\n",
            "trans_num                0\n",
            "unix_time                0\n",
            "merch_lat                0\n",
            "merch_long               0\n",
            "is_fraud                 0\n",
            "dtype: int64\n"
          ]
        }
      ]
    },
    {
      "cell_type": "code",
      "source": [
        "print(\"\\nMissing values in testing data:\")\n",
        "print(sample_data_test.isnull().sum())"
      ],
      "metadata": {
        "colab": {
          "base_uri": "https://localhost:8080/"
        },
        "id": "-DCxEMCShD7g",
        "outputId": "b875b2ac-9e2a-4e77-80f5-bf7f1701b7ef"
      },
      "execution_count": 62,
      "outputs": [
        {
          "output_type": "stream",
          "name": "stdout",
          "text": [
            "\n",
            "Missing values in testing data:\n",
            "Unnamed: 0               0\n",
            "trans_date_trans_time    0\n",
            "cc_num                   0\n",
            "merchant                 0\n",
            "category                 0\n",
            "amt                      0\n",
            "first                    0\n",
            "last                     0\n",
            "gender                   0\n",
            "street                   0\n",
            "city                     0\n",
            "state                    0\n",
            "zip                      0\n",
            "lat                      0\n",
            "long                     0\n",
            "city_pop                 0\n",
            "job                      0\n",
            "dob                      0\n",
            "trans_num                0\n",
            "unix_time                0\n",
            "merch_lat                0\n",
            "merch_long               0\n",
            "is_fraud                 0\n",
            "dtype: int64\n"
          ]
        }
      ]
    },
    {
      "cell_type": "code",
      "source": [
        "\n",
        "combined_data = pd.concat([sample_data_train, sample_data_test])\n",
        "\n",
        "combined_data['trans_date_trans_time'] = pd.to_datetime(combined_data['trans_date_trans_time'])\n",
        "\n",
        "combined_data['trans_year'] = combined_data['trans_date_trans_time'].dt.year\n",
        "combined_data['trans_month'] = combined_data['trans_date_trans_time'].dt.month\n",
        "combined_data['trans_day'] = combined_data['trans_date_trans_time'].dt.day\n",
        "combined_data['trans_hour'] = combined_data['trans_date_trans_time'].dt.hour\n",
        "combined_data['trans_minute'] = combined_data['trans_date_trans_time'].dt.minute\n",
        "\n",
        "combined_data.drop(columns=['trans_date_trans_time'], inplace=True)\n",
        "\n",
        "if 'dob' in combined_data.columns:\n",
        "    combined_data['dob'] = pd.to_datetime(combined_data['dob'])\n",
        "    combined_data['dob_year'] = combined_data['dob'].dt.year\n",
        "    combined_data['dob_month'] = combined_data['dob'].dt.month\n",
        "    combined_data['dob_day'] = combined_data['dob'].dt.day\n",
        "    combined_data.drop(columns=['dob'], inplace=True)\n",
        "\n",
        "combined_data_encoded = pd.get_dummies(combined_data, columns=['category', 'first', 'last', 'street', 'city', 'state', 'job', 'trans_num','gender','merchant'])\n",
        "\n",
        "train_data_encoded = combined_data_encoded.iloc[:len(sample_data_train)]\n",
        "test_data_encoded = combined_data_encoded.iloc[len(sample_data_train):]\n",
        "\n",
        "print(\"First few rows of encoded training data:\")\n",
        "print(train_data_encoded.head())\n",
        "\n",
        "print(\"\\nFirst few rows of encoded testing data:\")\n",
        "print(test_data_encoded.head())\n"
      ],
      "metadata": {
        "colab": {
          "base_uri": "https://localhost:8080/"
        },
        "id": "_pDZAer2j7_2",
        "outputId": "b27e49a5-19d7-4929-9139-4910fb4d8380"
      },
      "execution_count": 63,
      "outputs": [
        {
          "output_type": "stream",
          "name": "stdout",
          "text": [
            "First few rows of encoded training data:\n",
            "         Unnamed: 0            cc_num     amt    zip      lat      long  \\\n",
            "1045211     1045211      577588686219  194.51  15686  40.6153  -79.4545   \n",
            "547406       547406    30376238035123   52.32  97476  42.8250 -124.4409   \n",
            "110142       110142  4658490815480264    6.53  15449  39.9636  -79.7853   \n",
            "1285953     1285953  3514897282719543    7.33  14425  42.9580  -77.3083   \n",
            "271705       271705  6011381817520024   64.29  82221  41.6423 -104.1974   \n",
            "\n",
            "         city_pop   unix_time  merch_lat  merch_long  ...  \\\n",
            "1045211       972  1362841766  40.420453  -78.865012  ...   \n",
            "547406        217  1345650541  42.758860 -123.636337  ...   \n",
            "110142        184  1330824856  40.475159  -78.898190  ...   \n",
            "1285953     10717  1371413078  43.767506  -76.542384  ...   \n",
            "271705        635  1336974888  41.040392 -104.092324  ...   \n",
            "\n",
            "         merchant_fraud_Yost, Schamberger and Windler  \\\n",
            "1045211                                             0   \n",
            "547406                                              0   \n",
            "110142                                              0   \n",
            "1285953                                             0   \n",
            "271705                                              0   \n",
            "\n",
            "         merchant_fraud_Yost-Rogahn  merchant_fraud_Zboncak LLC  \\\n",
            "1045211                           0                           0   \n",
            "547406                            0                           0   \n",
            "110142                            0                           0   \n",
            "1285953                           0                           0   \n",
            "271705                            0                           0   \n",
            "\n",
            "         merchant_fraud_Zboncak Ltd  merchant_fraud_Zboncak, Rowe and Murazik  \\\n",
            "1045211                           0                                         0   \n",
            "547406                            0                                         0   \n",
            "110142                            0                                         0   \n",
            "1285953                           0                                         0   \n",
            "271705                            0                                         0   \n",
            "\n",
            "         merchant_fraud_Zemlak Group  \\\n",
            "1045211                            0   \n",
            "547406                             0   \n",
            "110142                             0   \n",
            "1285953                            0   \n",
            "271705                             0   \n",
            "\n",
            "         merchant_fraud_Zemlak, Tillman and Cremin  \\\n",
            "1045211                                          0   \n",
            "547406                                           0   \n",
            "110142                                           0   \n",
            "1285953                                          0   \n",
            "271705                                           0   \n",
            "\n",
            "         merchant_fraud_Ziemann-Waters  merchant_fraud_Zieme, Bode and Dooley  \\\n",
            "1045211                              0                                      0   \n",
            "547406                               0                                      0   \n",
            "110142                               0                                      0   \n",
            "1285953                              0                                      0   \n",
            "271705                               0                                      0   \n",
            "\n",
            "         merchant_fraud_Zulauf LLC  \n",
            "1045211                          0  \n",
            "547406                           0  \n",
            "110142                           0  \n",
            "1285953                          0  \n",
            "271705                           0  \n",
            "\n",
            "[5 rows x 18626 columns]\n",
            "\n",
            "First few rows of encoded testing data:\n",
            "        Unnamed: 0           cc_num    amt    zip      lat     long  city_pop  \\\n",
            "119106      119106  377895991033232   1.07   6441  41.4682 -72.5751      5438   \n",
            "179292      179292   30364087349027  94.99  74047  35.8896 -96.0887      7163   \n",
            "540729      540729   30328384440870  31.28  64630  40.0290 -93.1607       602   \n",
            "374360      374360   30364087349027  73.06  74047  35.8896 -96.0887      7163   \n",
            "314574      314574    4198470814557   9.99  51521  41.4768 -95.3509      2036   \n",
            "\n",
            "         unix_time  merch_lat  merch_long  ...  \\\n",
            "119106  1375430128  41.240083  -71.837788  ...   \n",
            "179292  1377266716  35.156537  -95.806648  ...   \n",
            "540729  1388247749  39.888665  -93.106804  ...   \n",
            "374360  1384425890  36.734101  -96.737345  ...   \n",
            "314574  1382147409  40.922072  -94.899388  ...   \n",
            "\n",
            "        merchant_fraud_Yost, Schamberger and Windler  \\\n",
            "119106                                             0   \n",
            "179292                                             0   \n",
            "540729                                             0   \n",
            "374360                                             0   \n",
            "314574                                             0   \n",
            "\n",
            "        merchant_fraud_Yost-Rogahn  merchant_fraud_Zboncak LLC  \\\n",
            "119106                           0                           0   \n",
            "179292                           0                           0   \n",
            "540729                           0                           0   \n",
            "374360                           0                           0   \n",
            "314574                           0                           0   \n",
            "\n",
            "        merchant_fraud_Zboncak Ltd  merchant_fraud_Zboncak, Rowe and Murazik  \\\n",
            "119106                           0                                         0   \n",
            "179292                           0                                         0   \n",
            "540729                           0                                         0   \n",
            "374360                           0                                         0   \n",
            "314574                           0                                         0   \n",
            "\n",
            "        merchant_fraud_Zemlak Group  \\\n",
            "119106                            0   \n",
            "179292                            0   \n",
            "540729                            0   \n",
            "374360                            0   \n",
            "314574                            0   \n",
            "\n",
            "        merchant_fraud_Zemlak, Tillman and Cremin  \\\n",
            "119106                                          0   \n",
            "179292                                          0   \n",
            "540729                                          0   \n",
            "374360                                          0   \n",
            "314574                                          0   \n",
            "\n",
            "        merchant_fraud_Ziemann-Waters  merchant_fraud_Zieme, Bode and Dooley  \\\n",
            "119106                              0                                      0   \n",
            "179292                              0                                      0   \n",
            "540729                              0                                      0   \n",
            "374360                              0                                      0   \n",
            "314574                              0                                      0   \n",
            "\n",
            "        merchant_fraud_Zulauf LLC  \n",
            "119106                          0  \n",
            "179292                          0  \n",
            "540729                          0  \n",
            "374360                          0  \n",
            "314574                          0  \n",
            "\n",
            "[5 rows x 18626 columns]\n"
          ]
        }
      ]
    },
    {
      "cell_type": "code",
      "source": [
        "from sklearn.model_selection import train_test_split\n",
        "\n",
        "X_train, X_val, y_train, y_val = train_test_split(X_train, y_train, test_size=0.4, random_state=42)\n",
        "\n",
        "print(\"Shape of X_train:\", X_train.shape)\n",
        "print(\"Shape of X_val:\", X_val.shape)\n",
        "print(\"Shape of y_train:\", y_train.shape)\n",
        "print(\"Shape of y_val:\", y_val.shape)\n"
      ],
      "metadata": {
        "colab": {
          "base_uri": "https://localhost:8080/"
        },
        "id": "UgN59zah7P20",
        "outputId": "f46d6abe-9365-4002-a869-bcb9d5eb18b4"
      },
      "execution_count": 71,
      "outputs": [
        {
          "output_type": "stream",
          "name": "stdout",
          "text": [
            "Shape of X_train: (317, 5064)\n",
            "Shape of X_val: (212, 5064)\n",
            "Shape of y_train: (317,)\n",
            "Shape of y_val: (212,)\n"
          ]
        }
      ]
    },
    {
      "cell_type": "code",
      "source": [
        "from sklearn.ensemble import RandomForestClassifier\n",
        "random_forest_model = RandomForestClassifier()\n",
        "random_forest_model.fit(X_train, y_train)\n",
        "train_predictions_rf = random_forest_model.predict(X_train)\n",
        "val_predictions_rf = random_forest_model.predict(X_val)\n"
      ],
      "metadata": {
        "id": "vbcaIw6yAuAx"
      },
      "execution_count": 72,
      "outputs": []
    },
    {
      "cell_type": "code",
      "source": [
        "from sklearn.metrics import accuracy_score, classification_report\n",
        "print(\"Random Forest Training Performance:\")\n",
        "print(\"Accuracy:\", accuracy_score(y_train, train_predictions_rf))\n",
        "print(\"Classification Report:\")\n",
        "print(classification_report(y_train, train_predictions_rf))\n"
      ],
      "metadata": {
        "colab": {
          "base_uri": "https://localhost:8080/"
        },
        "id": "E0MGhKqiA9Hb",
        "outputId": "4e3f8ae5-d93c-4f55-a4cc-54288dac3218"
      },
      "execution_count": 73,
      "outputs": [
        {
          "output_type": "stream",
          "name": "stdout",
          "text": [
            "Random Forest Training Performance:\n",
            "Accuracy: 1.0\n",
            "Classification Report:\n",
            "              precision    recall  f1-score   support\n",
            "\n",
            "           0       1.00      1.00      1.00       316\n",
            "           1       1.00      1.00      1.00         1\n",
            "\n",
            "    accuracy                           1.00       317\n",
            "   macro avg       1.00      1.00      1.00       317\n",
            "weighted avg       1.00      1.00      1.00       317\n",
            "\n"
          ]
        }
      ]
    }
  ]
}